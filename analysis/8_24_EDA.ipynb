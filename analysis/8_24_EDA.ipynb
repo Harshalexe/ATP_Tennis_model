{
 "cells": [
  {
   "cell_type": "markdown",
   "id": "315b0902",
   "metadata": {},
   "source": [
    "#### Data Analysing 2008-2024"
   ]
  },
  {
   "cell_type": "code",
   "execution_count": 1,
   "id": "54beb5ee",
   "metadata": {},
   "outputs": [],
   "source": [
    "import pandas as pd\n",
    "import numpy as np"
   ]
  },
  {
   "cell_type": "code",
   "execution_count": 2,
   "id": "93d839c8",
   "metadata": {},
   "outputs": [],
   "source": [
    "data_path = \"../data/2008-2024-deliveries.csv\"\n",
    "df=pd.read_csv(data_path)"
   ]
  },
  {
   "cell_type": "markdown",
   "id": "853911db",
   "metadata": {},
   "source": [
    "1) Overall Data Inspection"
   ]
  },
  {
   "cell_type": "code",
   "execution_count": 3,
   "id": "1df32054",
   "metadata": {},
   "outputs": [],
   "source": [
    "from analysis_src.basic_data_inspection import DataInspectorMain, DataInspector, DatatypeInspector, summaryInspector"
   ]
  },
  {
   "cell_type": "code",
   "execution_count": 4,
   "id": "9d511b0b",
   "metadata": {},
   "outputs": [
    {
     "name": "stdout",
     "output_type": "stream",
     "text": [
      "Data Types:\n",
      "<class 'pandas.core.frame.DataFrame'>\n",
      "RangeIndex: 260920 entries, 0 to 260919\n",
      "Data columns (total 17 columns):\n",
      " #   Column            Non-Null Count   Dtype \n",
      "---  ------            --------------   ----- \n",
      " 0   match_id          260920 non-null  int64 \n",
      " 1   inning            260920 non-null  int64 \n",
      " 2   batting_team      260920 non-null  object\n",
      " 3   bowling_team      260920 non-null  object\n",
      " 4   over              260920 non-null  int64 \n",
      " 5   ball              260920 non-null  int64 \n",
      " 6   batter            260920 non-null  object\n",
      " 7   bowler            260920 non-null  object\n",
      " 8   non_striker       260920 non-null  object\n",
      " 9   batsman_runs      260920 non-null  int64 \n",
      " 10  extra_runs        260920 non-null  int64 \n",
      " 11  total_runs        260920 non-null  int64 \n",
      " 12  extras_type       14125 non-null   object\n",
      " 13  is_wicket         260920 non-null  int64 \n",
      " 14  player_dismissed  12950 non-null   object\n",
      " 15  dismissal_kind    12950 non-null   object\n",
      " 16  fielder           9354 non-null    object\n",
      "dtypes: int64(8), object(9)\n",
      "memory usage: 33.8+ MB\n",
      "None\n",
      "match_id             int64\n",
      "inning               int64\n",
      "batting_team        object\n",
      "bowling_team        object\n",
      "over                 int64\n",
      "ball                 int64\n",
      "batter              object\n",
      "bowler              object\n",
      "non_striker         object\n",
      "batsman_runs         int64\n",
      "extra_runs           int64\n",
      "total_runs           int64\n",
      "extras_type         object\n",
      "is_wicket            int64\n",
      "player_dismissed    object\n",
      "dismissal_kind      object\n",
      "fielder             object\n",
      "dtype: object\n"
     ]
    }
   ],
   "source": [
    "data_inspector = DataInspectorMain(DatatypeInspector())\n",
    "data_inspector.execute_inspection(df)"
   ]
  },
  {
   "cell_type": "code",
   "execution_count": 5,
   "id": "0a293566",
   "metadata": {},
   "outputs": [
    {
     "name": "stdout",
     "output_type": "stream",
     "text": [
      "Summary Statistics: for numerical columns\n",
      "           match_id         inning           over           ball  \\\n",
      "count  2.609200e+05  260920.000000  260920.000000  260920.000000   \n",
      "mean   9.070665e+05       1.483531       9.197677       3.624486   \n",
      "std    3.679913e+05       0.502643       5.683484       1.814920   \n",
      "min    3.359820e+05       1.000000       0.000000       1.000000   \n",
      "25%    5.483340e+05       1.000000       4.000000       2.000000   \n",
      "50%    9.809670e+05       1.000000       9.000000       4.000000   \n",
      "75%    1.254066e+06       2.000000      14.000000       5.000000   \n",
      "max    1.426312e+06       6.000000      19.000000      11.000000   \n",
      "\n",
      "        batsman_runs     extra_runs     total_runs      is_wicket  \n",
      "count  260920.000000  260920.000000  260920.000000  260920.000000  \n",
      "mean        1.265001       0.067806       1.332807       0.049632  \n",
      "std         1.639298       0.343265       1.626416       0.217184  \n",
      "min         0.000000       0.000000       0.000000       0.000000  \n",
      "25%         0.000000       0.000000       0.000000       0.000000  \n",
      "50%         1.000000       0.000000       1.000000       0.000000  \n",
      "75%         1.000000       0.000000       1.000000       0.000000  \n",
      "max         6.000000       7.000000       7.000000       1.000000  \n",
      "Summary Statistics: for categorical columns\n",
      "          batting_team    bowling_team   batter    bowler non_striker  \\\n",
      "count           260920          260920   260920    260920      260920   \n",
      "unique              19              19      673       530         663   \n",
      "top     Mumbai Indians  Mumbai Indians  V Kohli  R Ashwin     V Kohli   \n",
      "freq             31437           31505     6236      4679        6067   \n",
      "\n",
      "       extras_type player_dismissed dismissal_kind   fielder  \n",
      "count        14125            12950          12950      9354  \n",
      "unique           5              629             10       607  \n",
      "top          wides        RG Sharma         caught  MS Dhoni  \n",
      "freq          8380              223           8063       220  \n"
     ]
    }
   ],
   "source": [
    "data_inspector.set_strategy(summaryInspector())\n",
    "data_inspector.execute_inspection(df)"
   ]
  },
  {
   "cell_type": "code",
   "execution_count": null,
   "id": "e4739961",
   "metadata": {},
   "outputs": [],
   "source": []
  },
  {
   "cell_type": "code",
   "execution_count": null,
   "id": "10d7ece9",
   "metadata": {},
   "outputs": [],
   "source": []
  }
 ],
 "metadata": {
  "kernelspec": {
   "display_name": "Python 3",
   "language": "python",
   "name": "python3"
  },
  "language_info": {
   "codemirror_mode": {
    "name": "ipython",
    "version": 3
   },
   "file_extension": ".py",
   "mimetype": "text/x-python",
   "name": "python",
   "nbconvert_exporter": "python",
   "pygments_lexer": "ipython3",
   "version": "3.12.0"
  }
 },
 "nbformat": 4,
 "nbformat_minor": 5
}
