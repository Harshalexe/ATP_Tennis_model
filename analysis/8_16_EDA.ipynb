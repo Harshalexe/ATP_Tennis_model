{
 "cells": [
  {
   "cell_type": "markdown",
   "id": "319ee7c6",
   "metadata": {},
   "source": [
    "#### Data Analysing 2008-2016"
   ]
  },
  {
   "cell_type": "markdown",
   "id": "733d48eb",
   "metadata": {},
   "source": [
    "Ball Level Analysis"
   ]
  },
  {
   "cell_type": "markdown",
   "id": "38efa9e6",
   "metadata": {},
   "source": []
  }
 ],
 "metadata": {
  "language_info": {
   "name": "python"
  }
 },
 "nbformat": 4,
 "nbformat_minor": 5
}
