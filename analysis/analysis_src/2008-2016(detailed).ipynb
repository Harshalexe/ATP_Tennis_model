{
 "cells": [
  {
   "cell_type": "code",
   "execution_count": 1,
   "id": "dbf14ad2",
   "metadata": {},
   "outputs": [],
   "source": [
    "import numpy as np\n",
    "import pandas as pd"
   ]
  },
  {
   "cell_type": "code",
   "execution_count": 2,
   "id": "b05802e8",
   "metadata": {},
   "outputs": [],
   "source": [
    "pd.set_option('display.max_columns', None) \n",
    "pd.set_option('display.max_rows', 100)"
   ]
  },
  {
   "cell_type": "code",
   "execution_count": 3,
   "id": "d8730f43",
   "metadata": {},
   "outputs": [],
   "source": [
    "#loading the data that has been extracted\n",
    "df =pd.read_csv(\"../../extracted_data/2008-2016-deliveries(detailed).csv\")"
   ]
  },
  {
   "cell_type": "code",
   "execution_count": 4,
   "id": "bb387a75",
   "metadata": {},
   "outputs": [],
   "source": [
    "#basic data inspection\n",
    "\n",
    "from basic_data_inspection import DataInspectorStrategy, DatatypeInspector, summaryInspector, DataInspector"
   ]
  },
  {
   "cell_type": "code",
   "execution_count": 5,
   "id": "8a40025e",
   "metadata": {},
   "outputs": [
    {
     "name": "stdout",
     "output_type": "stream",
     "text": [
      "Data Types:\n",
      "<class 'pandas.core.frame.DataFrame'>\n",
      "RangeIndex: 150460 entries, 0 to 150459\n",
      "Data columns (total 21 columns):\n",
      " #   Column            Non-Null Count   Dtype \n",
      "---  ------            --------------   ----- \n",
      " 0   match_id          150460 non-null  int64 \n",
      " 1   inning            150460 non-null  int64 \n",
      " 2   batting_team      150460 non-null  object\n",
      " 3   bowling_team      150460 non-null  object\n",
      " 4   over              150460 non-null  int64 \n",
      " 5   ball              150460 non-null  int64 \n",
      " 6   batsman           150460 non-null  object\n",
      " 7   non_striker       150460 non-null  object\n",
      " 8   bowler            150460 non-null  object\n",
      " 9   is_super_over     150460 non-null  int64 \n",
      " 10  wide_runs         150460 non-null  int64 \n",
      " 11  bye_runs          150460 non-null  int64 \n",
      " 12  legbye_runs       150460 non-null  int64 \n",
      " 13  noball_runs       150460 non-null  int64 \n",
      " 14  penalty_runs      150460 non-null  int64 \n",
      " 15  batsman_runs      150460 non-null  int64 \n",
      " 16  extra_runs        150460 non-null  int64 \n",
      " 17  total_runs        150460 non-null  int64 \n",
      " 18  player_dismissed  7438 non-null    object\n",
      " 19  dismissal_kind    7438 non-null    object\n",
      " 20  fielder           5369 non-null    object\n",
      "dtypes: int64(13), object(8)\n",
      "memory usage: 24.1+ MB\n",
      "None\n",
      "match_id             int64\n",
      "inning               int64\n",
      "batting_team        object\n",
      "bowling_team        object\n",
      "over                 int64\n",
      "ball                 int64\n",
      "batsman             object\n",
      "non_striker         object\n",
      "bowler              object\n",
      "is_super_over        int64\n",
      "wide_runs            int64\n",
      "bye_runs             int64\n",
      "legbye_runs          int64\n",
      "noball_runs          int64\n",
      "penalty_runs         int64\n",
      "batsman_runs         int64\n",
      "extra_runs           int64\n",
      "total_runs           int64\n",
      "player_dismissed    object\n",
      "dismissal_kind      object\n",
      "fielder             object\n",
      "dtype: object\n"
     ]
    }
   ],
   "source": [
    "data_inspector= DataInspectorStrategy(DatatypeInspector())\n",
    "result=data_inspector.execute_inspection(df)\n",
    "result"
   ]
  },
  {
   "cell_type": "code",
   "execution_count": 6,
   "id": "56344870",
   "metadata": {},
   "outputs": [
    {
     "name": "stdout",
     "output_type": "stream",
     "text": [
      "Summary Statistics: for numerical columns\n",
      "            match_id         inning           over           ball  \\\n",
      "count  150460.000000  150460.000000  150460.000000  150460.000000   \n",
      "mean      318.281317       1.482188      10.142649       3.616483   \n",
      "std       182.955531       0.501768       5.674338       1.807698   \n",
      "min         1.000000       1.000000       1.000000       1.000000   \n",
      "25%       161.000000       1.000000       5.000000       2.000000   \n",
      "50%       319.000000       1.000000      10.000000       4.000000   \n",
      "75%       476.000000       2.000000      15.000000       5.000000   \n",
      "max       636.000000       4.000000      20.000000       9.000000   \n",
      "\n",
      "       is_super_over      wide_runs       bye_runs    legbye_runs  \\\n",
      "count  150460.000000  150460.000000  150460.000000  150460.000000   \n",
      "mean        0.000538       0.037498       0.004885       0.022232   \n",
      "std         0.023196       0.257398       0.114234       0.200104   \n",
      "min         0.000000       0.000000       0.000000       0.000000   \n",
      "25%         0.000000       0.000000       0.000000       0.000000   \n",
      "50%         0.000000       0.000000       0.000000       0.000000   \n",
      "75%         0.000000       0.000000       0.000000       0.000000   \n",
      "max         1.000000       5.000000       4.000000       5.000000   \n",
      "\n",
      "         noball_runs   penalty_runs   batsman_runs     extra_runs  \\\n",
      "count  150460.000000  150460.000000  150460.000000  150460.000000   \n",
      "mean        0.004340       0.000066       1.222445       0.069022   \n",
      "std         0.072652       0.018229       1.594509       0.349667   \n",
      "min         0.000000       0.000000       0.000000       0.000000   \n",
      "25%         0.000000       0.000000       0.000000       0.000000   \n",
      "50%         0.000000       0.000000       1.000000       0.000000   \n",
      "75%         0.000000       0.000000       1.000000       0.000000   \n",
      "max         5.000000       5.000000       6.000000       7.000000   \n",
      "\n",
      "          total_runs  \n",
      "count  150460.000000  \n",
      "mean        1.291466  \n",
      "std         1.583240  \n",
      "min         0.000000  \n",
      "25%         0.000000  \n",
      "50%         1.000000  \n",
      "75%         1.000000  \n",
      "max         7.000000  \n",
      "Summary Statistics: for categorical columns\n",
      "          batting_team    bowling_team  batsman non_striker           bowler  \\\n",
      "count           150460          150460   150460      150460           150460   \n",
      "unique              14              14      461         458              356   \n",
      "top     Mumbai Indians  Mumbai Indians  V Kohli   G Gambhir  Harbhajan Singh   \n",
      "freq             18943           18879     3494        3635             2989   \n",
      "\n",
      "       player_dismissed dismissal_kind     fielder  \n",
      "count              7438           7438        5369  \n",
      "unique              436              9         451  \n",
      "top            SK Raina         caught  KD Karthik  \n",
      "freq                134           4373         127  \n"
     ]
    }
   ],
   "source": [
    "data_inspector.set_strategy(summaryInspector())\n",
    "result=data_inspector.execute_inspection(df)\n",
    "result"
   ]
  },
  {
   "cell_type": "code",
   "execution_count": 11,
   "id": "d03b260e",
   "metadata": {},
   "outputs": [
    {
     "data": {
      "text/plain": [
       "\"Please provide me with the dataset, data summary, or data info that you would like me to analyze. I'm ready to put my data analysis skills to work and deliver clear, actionable insights. \\n\\nFor example, you can share:\\n\\n* **A link to a CSV or Excel file:**  This allows me to directly access and analyze the data.\\n* **A textual description of the dataset:** Include details about the variables, data types, and any known limitations.\\n* **A summary of key findings:**  Share any initial observations or trends you've noticed.\\n\\nThe more information you provide, the more comprehensive and insightful my analysis will be.  \\n\\n\""
      ]
     },
     "execution_count": 11,
     "metadata": {},
     "output_type": "execute_result"
    }
   ],
   "source": [
    "# let see ai assistant analysis\n",
    "\n",
    "from aiassitant import AiAssistant\n",
    "\n",
    "ai_result= AiAssistant()\n",
    "res=ai_result.get_response(result)\n",
    "res"
   ]
  },
  {
   "cell_type": "code",
   "execution_count": null,
   "id": "97aec2b5",
   "metadata": {},
   "outputs": [
    {
     "data": {
      "text/plain": [
       "\"Please provide me with the dataset, data summary, or data info you'd like me to analyze. I'm eager to dive in and deliver actionable insights! \\n\\nRemember, the more context you give me about the data (e.g., its source, intended use, and any known limitations), the more comprehensive and relevant my analysis will be. \\n\\n\""
      ]
     },
     "execution_count": 9,
     "metadata": {},
     "output_type": "execute_result"
    }
   ],
   "source": []
  },
  {
   "cell_type": "code",
   "execution_count": null,
   "id": "0e0efd73",
   "metadata": {},
   "outputs": [],
   "source": []
  }
 ],
 "metadata": {
  "kernelspec": {
   "display_name": "venv",
   "language": "python",
   "name": "python3"
  },
  "language_info": {
   "codemirror_mode": {
    "name": "ipython",
    "version": 3
   },
   "file_extension": ".py",
   "mimetype": "text/x-python",
   "name": "python",
   "nbconvert_exporter": "python",
   "pygments_lexer": "ipython3",
   "version": "3.12.0"
  }
 },
 "nbformat": 4,
 "nbformat_minor": 5
}
